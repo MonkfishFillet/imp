{
 "cells": [
  {
   "cell_type": "code",
   "execution_count": 1,
   "id": "f3a41716",
   "metadata": {},
   "outputs": [],
   "source": [
    "x = {\n",
    "  \"drinks\": [\n",
    "    {\n",
    "      \"idDrink\": \"178350\",\n",
    "      \"strDrink\": \"The Galah\",\n",
    "      \"strDrinkAlternate\": None,\n",
    "      \"strTags\": \"Dark\",\n",
    "      \"strVideo\": None,\n",
    "      \"strCategory\": \"Cocktail\",\n",
    "      \"strIBA\": None,\n",
    "      \"strAlcoholic\": \"Alcoholic\",\n",
    "      \"strGlass\": \"Collins glass\",\n",
    "      \"strInstructions\": \"Mix together the alcoholic portions and top with Pineapple and Lime juice.\",\n",
    "      \"strInstructionsES\": \"Mezclar las porciones alcohólicas y cubrir con el zumo de piña y lima.\",\n",
    "      \"strInstructionsDE\": \"Die alkoholischen Portionen vermischen und mit Ananas- und Limettensaft aufgießen.\",\n",
    "      \"strInstructionsFR\": \"Mélanger les portions alcoolisées et les garnir de jus d'ananas et de citron vert.\",\n",
    "      \"strInstructionsIT\": \"Mescolare insieme le porzioni alcoliche e completare con succo di ananas e lime.\",\n",
    "      \"strInstructionsZH-HANS\": None,\n",
    "      \"strInstructionsZH-HANT\": None,\n",
    "      \"strDrinkThumb\": \"https://www.thecocktaildb.com/images/media/drink/sy7y6r1614775067.jpg\",\n",
    "      \"strIngredient1\": \"Dark Rum\",\n",
    "      \"strIngredient2\": \"Campari\",\n",
    "      \"strIngredient3\": \"Creme De Banane\",\n",
    "      \"strIngredient4\": \"Pineapple Juice\",\n",
    "      \"strIngredient5\": \"Lime Juice\",\n",
    "      \"strIngredient6\": None,\n",
    "      \"strIngredient7\": None,\n",
    "      \"strIngredient8\": None,\n",
    "      \"strIngredient9\": None,\n",
    "      \"strIngredient10\": None,\n",
    "      \"strIngredient11\": None,\n",
    "      \"strIngredient12\": None,\n",
    "      \"strIngredient13\": None,\n",
    "      \"strIngredient14\": None,\n",
    "      \"strIngredient15\": None,\n",
    "      \"strMeasure1\": \"1 shot\",\n",
    "      \"strMeasure2\": \"1 shot\",\n",
    "      \"strMeasure3\": \"1/2 shot\",\n",
    "      \"strMeasure4\": \"Top\",\n",
    "      \"strMeasure5\": \"Top\",\n",
    "      \"strMeasure6\": \"\",\n",
    "      \"strMeasure7\": \"\",\n",
    "      \"strMeasure8\": None,\n",
    "      \"strMeasure9\": None,\n",
    "      \"strMeasure10\": None,\n",
    "      \"strMeasure11\": None,\n",
    "      \"strMeasure12\": None,\n",
    "      \"strMeasure13\": None,\n",
    "      \"strMeasure14\": None,\n",
    "      \"strMeasure15\": None,\n",
    "      \"strImageSource\": \"https://www.instagram.com/p/CLFp5hqlYZC/\",\n",
    "      \"strImageAttribution\": None,\n",
    "      \"strCreativeCommonsConfirmed\": \"No\",\n",
    "      \"dateModified\": None\n",
    "    }\n",
    "  ]\n",
    "}"
   ]
  },
  {
   "cell_type": "code",
   "execution_count": 2,
   "id": "96aaddde",
   "metadata": {},
   "outputs": [],
   "source": [
    "from imp_bot.models.drink import DrinkModel"
   ]
  },
  {
   "cell_type": "code",
   "execution_count": 3,
   "id": "642c44b0",
   "metadata": {},
   "outputs": [],
   "source": [
    "y = DrinkModel.model_validate(x['drinks'][0])"
   ]
  },
  {
   "cell_type": "code",
   "execution_count": 4,
   "id": "736250ce",
   "metadata": {},
   "outputs": [
    {
     "name": "stdout",
     "output_type": "stream",
     "text": [
      "{'category': 'Cocktail',\n",
      " 'creativeCommonsConfirmed': 'No',\n",
      " 'drink_id': '178350',\n",
      " 'drink_thumb': 'https://www.thecocktaildb.com/images/media/drink/sy7y6r1614775067.jpg',\n",
      " 'glass': 'Collins glass',\n",
      " 'imageSource': 'https://www.instagram.com/p/CLFp5hqlYZC/',\n",
      " 'ingredient_measurements': ['1 shot Dark Rum',\n",
      "                             '1 shot Campari',\n",
      "                             '1/2 shot Creme De Banane',\n",
      "                             'Top Pineapple Juice',\n",
      "                             'Top Lime Juice'],\n",
      " 'instructions': 'Mix together the alcoholic portions and top with Pineapple '\n",
      "                 'and Lime juice.',\n",
      " 'is_alcoholic': True,\n",
      " 'name': 'The Galah',\n",
      " 'tags': 'Dark'}\n"
     ]
    }
   ],
   "source": [
    "from pprint import pprint\n",
    "pprint(y.model_dump(exclude_none=True))"
   ]
  },
  {
   "cell_type": "code",
   "execution_count": 19,
   "id": "5c2f7776",
   "metadata": {},
   "outputs": [
    {
     "data": {
      "text/plain": [
       "{}"
      ]
     },
     "execution_count": 19,
     "metadata": {},
     "output_type": "execute_result"
    }
   ],
   "source": [
    "y.ingredient_measure_map"
   ]
  },
  {
   "cell_type": "code",
   "execution_count": null,
   "id": "4d2579c9",
   "metadata": {},
   "outputs": [],
   "source": []
  }
 ],
 "metadata": {
  "kernelspec": {
   "display_name": "imp-bot",
   "language": "python",
   "name": "python3"
  },
  "language_info": {
   "codemirror_mode": {
    "name": "ipython",
    "version": 3
   },
   "file_extension": ".py",
   "mimetype": "text/x-python",
   "name": "python",
   "nbconvert_exporter": "python",
   "pygments_lexer": "ipython3",
   "version": "3.11.2"
  }
 },
 "nbformat": 4,
 "nbformat_minor": 5
}
